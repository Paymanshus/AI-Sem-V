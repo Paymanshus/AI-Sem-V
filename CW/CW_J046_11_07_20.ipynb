{
  "nbformat": 4,
  "nbformat_minor": 0,
  "metadata": {
    "colab": {
      "name": "CW_J046_11_07_20.ipynb",
      "provenance": [],
      "authorship_tag": "ABX9TyM8RBfIliuUhYK2vrs0SFh8",
      "include_colab_link": true
    },
    "kernelspec": {
      "name": "python3",
      "display_name": "Python 3"
    }
  },
  "cells": [
    {
      "cell_type": "markdown",
      "metadata": {
        "id": "view-in-github",
        "colab_type": "text"
      },
      "source": [
        "<a href=\"https://colab.research.google.com/github/Paymanshus/AI-Sem-V/blob/master/CW/CW_J046_11_07_20.ipynb\" target=\"_parent\"><img src=\"https://colab.research.google.com/assets/colab-badge.svg\" alt=\"Open In Colab\"/></a>"
      ]
    },
    {
      "cell_type": "code",
      "metadata": {
        "id": "KR-szkEfzG0O",
        "colab_type": "code",
        "colab": {}
      },
      "source": [
        "import numpy as np\n",
        "import pandas as pd"
      ],
      "execution_count": 8,
      "outputs": []
    },
    {
      "cell_type": "markdown",
      "metadata": {
        "id": "xkgiRhsGRFcC",
        "colab_type": "text"
      },
      "source": [
        "###Indentation Handling"
      ]
    },
    {
      "cell_type": "code",
      "metadata": {
        "id": "ycYaaHQ7Q9UG",
        "colab_type": "code",
        "colab": {}
      },
      "source": [
        " a=3\n",
        "b=5"
      ],
      "execution_count": 10,
      "outputs": []
    },
    {
      "cell_type": "code",
      "metadata": {
        "id": "WrSL1J5RRLka",
        "colab_type": "code",
        "colab": {
          "base_uri": "https://localhost:8080/",
          "height": 132
        },
        "outputId": "94110e80-3aeb-42cc-c672-0ac7de5b32d0"
      },
      "source": [
        "if b<0:\n",
        "print('a')"
      ],
      "execution_count": 12,
      "outputs": [
        {
          "output_type": "error",
          "ename": "IndentationError",
          "evalue": "ignored",
          "traceback": [
            "\u001b[0;36m  File \u001b[0;32m\"<ipython-input-12-c02bb9d82abe>\"\u001b[0;36m, line \u001b[0;32m2\u001b[0m\n\u001b[0;31m    print('a')\u001b[0m\n\u001b[0m        ^\u001b[0m\n\u001b[0;31mIndentationError\u001b[0m\u001b[0;31m:\u001b[0m expected an indented block\n"
          ]
        }
      ]
    },
    {
      "cell_type": "markdown",
      "metadata": {
        "id": "BE9wn_oSRiCD",
        "colab_type": "text"
      },
      "source": [
        ""
      ]
    },
    {
      "cell_type": "code",
      "metadata": {
        "id": "JDC34crPRg-W",
        "colab_type": "code",
        "colab": {}
      },
      "source": [
        "def printer():\n",
        "  print(a+b)\n",
        "def sum(a,b):\n",
        "  return a+b"
      ],
      "execution_count": 13,
      "outputs": []
    },
    {
      "cell_type": "markdown",
      "metadata": {
        "id": "uY1OHYxwR1j8",
        "colab_type": "text"
      },
      "source": [
        "##Data Conversions\n",
        "\n"
      ]
    },
    {
      "cell_type": "code",
      "metadata": {
        "id": "riDungRjR4CQ",
        "colab_type": "code",
        "colab": {
          "base_uri": "https://localhost:8080/",
          "height": 34
        },
        "outputId": "e0bfdc68-a140-4b87-c951-0f0d164e1146"
      },
      "source": [
        "int('11',2) #Conversion of base 2(binary) to base 10(decimal)"
      ],
      "execution_count": 14,
      "outputs": [
        {
          "output_type": "execute_result",
          "data": {
            "text/plain": [
              "3"
            ]
          },
          "metadata": {
            "tags": []
          },
          "execution_count": 14
        }
      ]
    },
    {
      "cell_type": "code",
      "metadata": {
        "id": "x3UVFYPJR_-4",
        "colab_type": "code",
        "colab": {
          "base_uri": "https://localhost:8080/",
          "height": 34
        },
        "outputId": "419ef153-5fd7-43c5-c58d-4ca0ef6c57ad"
      },
      "source": [
        "int('111',3) #Conversion of base 3 to base 10(decimal)"
      ],
      "execution_count": 19,
      "outputs": [
        {
          "output_type": "execute_result",
          "data": {
            "text/plain": [
              "13"
            ]
          },
          "metadata": {
            "tags": []
          },
          "execution_count": 19
        }
      ]
    },
    {
      "cell_type": "code",
      "metadata": {
        "id": "ICfi7K3JSeJP",
        "colab_type": "code",
        "colab": {
          "base_uri": "https://localhost:8080/",
          "height": 34
        },
        "outputId": "1a391517-47ac-49dd-8500-4c133150ffa9"
      },
      "source": [
        "int('A',11)"
      ],
      "execution_count": 20,
      "outputs": [
        {
          "output_type": "execute_result",
          "data": {
            "text/plain": [
              "10"
            ]
          },
          "metadata": {
            "tags": []
          },
          "execution_count": 20
        }
      ]
    },
    {
      "cell_type": "markdown",
      "metadata": {
        "id": "H8OGz9VwSXWl",
        "colab_type": "text"
      },
      "source": [
        "###Typecasting"
      ]
    },
    {
      "cell_type": "code",
      "metadata": {
        "id": "wXdf3Z-CSVIe",
        "colab_type": "code",
        "colab": {
          "base_uri": "https://localhost:8080/",
          "height": 34
        },
        "outputId": "f1e2754d-ddc6-4de2-efb2-e0e7616fbd33"
      },
      "source": [
        "float(int('111',3))"
      ],
      "execution_count": 18,
      "outputs": [
        {
          "output_type": "execute_result",
          "data": {
            "text/plain": [
              "13.0"
            ]
          },
          "metadata": {
            "tags": []
          },
          "execution_count": 18
        }
      ]
    },
    {
      "cell_type": "markdown",
      "metadata": {
        "id": "NdbbYj5dTLv1",
        "colab_type": "text"
      },
      "source": [
        "##Classes"
      ]
    },
    {
      "cell_type": "markdown",
      "metadata": {
        "id": "zP18MDETTOFv",
        "colab_type": "text"
      },
      "source": [
        "###Name Wrangling\n"
      ]
    },
    {
      "cell_type": "code",
      "metadata": {
        "id": "8liV7B2XzXur",
        "colab_type": "code",
        "colab": {
          "base_uri": "https://localhost:8080/",
          "height": 105
        },
        "outputId": "6eefdc40-9deb-46a9-d73a-80b5a7d9fcdd"
      },
      "source": [
        "class Student:\n",
        "  a=6\n",
        "  def __init__(self,name):\n",
        "    #Instantiates the object of a class ~ contructor\n",
        "    #print(name)\n",
        "    self.name = name #attribute\n",
        "    self.__a=8 #name mangling\n",
        "\n",
        "  def displayName(self):\n",
        "    print(self.name)\n",
        "    print(self.__a)\n",
        "\n",
        "\n",
        "#Class vs Object\n",
        "s1 = Student(\"Santosh\")\n",
        "s1.displayName()\n",
        "\n",
        "\n",
        "print(s1.name)\n",
        "print(s1._Student__a)\n",
        "print(s1.a)\n",
        "##If you define a global variable in a function with underscore, \n",
        "##then you have to access the variable by <object>._<class_name><variable_name_starting_with_underscore>"
      ],
      "execution_count": 6,
      "outputs": [
        {
          "output_type": "stream",
          "text": [
            "Santosh\n",
            "8\n",
            "Santosh\n",
            "8\n",
            "6\n"
          ],
          "name": "stdout"
        }
      ]
    },
    {
      "cell_type": "markdown",
      "metadata": {
        "id": "qPGZTNLSTTCK",
        "colab_type": "text"
      },
      "source": [
        "##Subclass definition"
      ]
    },
    {
      "cell_type": "code",
      "metadata": {
        "id": "r5h2iQQKTVsk",
        "colab_type": "code",
        "colab": {
          "base_uri": "https://localhost:8080/",
          "height": 52
        },
        "outputId": "617b3f36-ae4c-4926-ea2d-c056f2b9b487"
      },
      "source": [
        "class Child(Student):\n",
        "  def __init__(self, a, name):\n",
        "    self.a = a\n",
        "    Student.__init__(Student, name) \n",
        "\n",
        "s2 = Child(42, 'Santosh')\n",
        "print(s2.name)\n",
        "print(s2.a)"
      ],
      "execution_count": 22,
      "outputs": [
        {
          "output_type": "stream",
          "text": [
            "Santosh\n",
            "42\n"
          ],
          "name": "stdout"
        }
      ]
    }
  ]
}