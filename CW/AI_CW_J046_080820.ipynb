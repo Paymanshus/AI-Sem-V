{
  "nbformat": 4,
  "nbformat_minor": 0,
  "metadata": {
    "colab": {
      "name": "AI_CW_J046_080820.ipynb",
      "provenance": [],
      "authorship_tag": "ABX9TyMj2h55Xk91HejrziY9b+FA",
      "include_colab_link": true
    },
    "kernelspec": {
      "name": "python3",
      "display_name": "Python 3"
    }
  },
  "cells": [
    {
      "cell_type": "markdown",
      "metadata": {
        "id": "view-in-github",
        "colab_type": "text"
      },
      "source": [
        "<a href=\"https://colab.research.google.com/github/Paymanshus/AI-Sem-V/blob/master/CW/AI_CW_J046_080820.ipynb\" target=\"_parent\"><img src=\"https://colab.research.google.com/assets/colab-badge.svg\" alt=\"Open In Colab\"/></a>"
      ]
    },
    {
      "cell_type": "markdown",
      "metadata": {
        "id": "nzzclNbxhX60",
        "colab_type": "text"
      },
      "source": [
        "#PTIME\n",
        "If n is the input size then, if complete computation can be done or expressed in a polynomial(algebraic expression with degree or highest power as a whole number). Time Complexity is O(n^K) where a polynomial of an^k+a1*n^k-1+... will be of order an^k\n",
        "\n",
        "Is negative feasible Negative n^-1/3 -> 1/n^1/3 n=27 n=216 1/3 , 1/6 1/3>1/6 Can time for computation decrease as inputs increase?"
      ]
    },
    {
      "cell_type": "code",
      "metadata": {
        "id": "g2SZF2DJhUM6",
        "colab_type": "code",
        "colab": {}
      },
      "source": [
        "import timeit"
      ],
      "execution_count": 3,
      "outputs": []
    },
    {
      "cell_type": "code",
      "metadata": {
        "id": "-H2rR7rt4XHI",
        "colab_type": "code",
        "colab": {
          "base_uri": "https://localhost:8080/",
          "height": 52
        },
        "outputId": "7db72f14-8509-424a-b520-f5691164a263"
      },
      "source": [
        "def facto(num):\n",
        "  factor=1\n",
        "  for i in range(1,num+1):\n",
        "    factor=factor*i\n",
        "  return factor\n",
        "num = int(input(\"Enter a Number: \"))\n",
        "print(\"Factorial of\", num, \"is: \", facto(num))"
      ],
      "execution_count": 5,
      "outputs": [
        {
          "output_type": "stream",
          "text": [
            "Enter a Number: 10\n",
            "Factorial of 10 is:  3628800\n"
          ],
          "name": "stdout"
        }
      ]
    },
    {
      "cell_type": "code",
      "metadata": {
        "id": "Iw3EjUpX4Xrs",
        "colab_type": "code",
        "colab": {
          "base_uri": "https://localhost:8080/",
          "height": 52
        },
        "outputId": "9e9ebc52-085e-476c-8354-bf58eebdf21c"
      },
      "source": [
        "%timeit (facto(10))"
      ],
      "execution_count": 6,
      "outputs": [
        {
          "output_type": "stream",
          "text": [
            "The slowest run took 6.39 times longer than the fastest. This could mean that an intermediate result is being cached.\n",
            "1000000 loops, best of 3: 733 ns per loop\n"
          ],
          "name": "stdout"
        }
      ]
    },
    {
      "cell_type": "code",
      "metadata": {
        "id": "jR0TpmAg4pxQ",
        "colab_type": "code",
        "colab": {
          "base_uri": "https://localhost:8080/",
          "height": 34
        },
        "outputId": "fd831309-81bc-4bbe-a68d-29e49b03f35c"
      },
      "source": [
        "%timeit (facto(100))"
      ],
      "execution_count": 7,
      "outputs": [
        {
          "output_type": "stream",
          "text": [
            "100000 loops, best of 3: 6.54 µs per loop\n"
          ],
          "name": "stdout"
        }
      ]
    },
    {
      "cell_type": "code",
      "metadata": {
        "id": "APNzuFvz5Hui",
        "colab_type": "code",
        "colab": {
          "base_uri": "https://localhost:8080/",
          "height": 34
        },
        "outputId": "bad9c7d6-e51a-495a-83d7-ed6b2a43f52a"
      },
      "source": [
        "%timeit (facto(5000))"
      ],
      "execution_count": 8,
      "outputs": [
        {
          "output_type": "stream",
          "text": [
            "100 loops, best of 3: 5.45 ms per loop\n"
          ],
          "name": "stdout"
        }
      ]
    },
    {
      "cell_type": "code",
      "metadata": {
        "id": "UaNNONeg5LYO",
        "colab_type": "code",
        "colab": {}
      },
      "source": [
        "def sum(a,b):\n",
        "    return a+b"
      ],
      "execution_count": 9,
      "outputs": []
    },
    {
      "cell_type": "code",
      "metadata": {
        "id": "HvubC2ty-n7g",
        "colab_type": "code",
        "colab": {
          "base_uri": "https://localhost:8080/",
          "height": 34
        },
        "outputId": "177e00f8-b1df-404d-8fb8-1c009d432a87"
      },
      "source": [
        "%timeit sum(5,10)"
      ],
      "execution_count": 10,
      "outputs": [
        {
          "output_type": "stream",
          "text": [
            "10000000 loops, best of 3: 100 ns per loop\n"
          ],
          "name": "stdout"
        }
      ]
    },
    {
      "cell_type": "code",
      "metadata": {
        "id": "6P6XwhE--pUb",
        "colab_type": "code",
        "colab": {
          "base_uri": "https://localhost:8080/",
          "height": 52
        },
        "outputId": "0689777a-5e2a-4e69-c1d6-00692606794a"
      },
      "source": [
        "%timeit sum(50,100)"
      ],
      "execution_count": 11,
      "outputs": [
        {
          "output_type": "stream",
          "text": [
            "The slowest run took 11.54 times longer than the fastest. This could mean that an intermediate result is being cached.\n",
            "10000000 loops, best of 3: 100 ns per loop\n"
          ],
          "name": "stdout"
        }
      ]
    },
    {
      "cell_type": "code",
      "metadata": {
        "id": "S0kcKHjn-rBg",
        "colab_type": "code",
        "colab": {
          "base_uri": "https://localhost:8080/",
          "height": 52
        },
        "outputId": "678be77c-c55f-4004-cab0-e363a9eaaf7b"
      },
      "source": [
        "%timeit sum(500,1000)"
      ],
      "execution_count": 12,
      "outputs": [
        {
          "output_type": "stream",
          "text": [
            "The slowest run took 15.05 times longer than the fastest. This could mean that an intermediate result is being cached.\n",
            "10000000 loops, best of 3: 111 ns per loop\n"
          ],
          "name": "stdout"
        }
      ]
    },
    {
      "cell_type": "code",
      "metadata": {
        "id": "8Vyb3lw3-sz1",
        "colab_type": "code",
        "colab": {
          "base_uri": "https://localhost:8080/",
          "height": 52
        },
        "outputId": "c1483ea2-1e05-4f3b-a5fc-0b4058c56a40"
      },
      "source": [
        "%timeit sum(5000,10000)"
      ],
      "execution_count": 13,
      "outputs": [
        {
          "output_type": "stream",
          "text": [
            "The slowest run took 14.65 times longer than the fastest. This could mean that an intermediate result is being cached.\n",
            "10000000 loops, best of 3: 111 ns per loop\n"
          ],
          "name": "stdout"
        }
      ]
    },
    {
      "cell_type": "markdown",
      "metadata": {
        "id": "yiYg1qch-3CW",
        "colab_type": "text"
      },
      "source": [
        "NP(Problem) - Solution is in non polynomial time\n",
        "P(Problem) - Max Solution time or Upper Bound is in Polynomial Time O(n^4) -> log n =[](is log n polynomial time or not ?)\n",
        "             (n*logn)\n",
        "              log 50(base10) - 1.69 ()<n^1\n",
        "              log 500(base10) - 2.69 ()<n^1\n",
        "              log 5000(base10) - 3.69 ()<n^1\n",
        "              for non linear change in n , change is linear\n",
        "\n",
        "NP () - n!\n",
        "        5!   120 -> <5^3\n",
        "        50!  3.0414093e+64 microsecs -> days -> 3.5201497e+53 days\n",
        "        500! \n",
        "        5000!\n",
        "NP Complete - > All NP hard problems can be approximated to the problem then it is NP Complete. \n",
        "NP hard - > A problem is NP Hard if its solution is in NP, Cannot be verified in Polynomial Time\n",
        "            \n",
        "AI Complete or \n",
        "AI Hard Problems\n",
        "SAT - n-SAT (2-SAT)"
      ]
    }
  ]
}