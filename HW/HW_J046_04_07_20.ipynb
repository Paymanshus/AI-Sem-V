{
  "nbformat": 4,
  "nbformat_minor": 0,
  "metadata": {
    "colab": {
      "name": "HW_J046_04_07_20.ipynb",
      "provenance": [],
      "collapsed_sections": [],
      "authorship_tag": "ABX9TyMBzQwrmjlamho2uIy9jd1A",
      "include_colab_link": true
    },
    "kernelspec": {
      "name": "python3",
      "display_name": "Python 3"
    }
  },
  "cells": [
    {
      "cell_type": "markdown",
      "metadata": {
        "id": "view-in-github",
        "colab_type": "text"
      },
      "source": [
        "<a href=\"https://colab.research.google.com/github/Paymanshus/AI-Sem-V/blob/master/HW/HW_J046_04_07_20.ipynb\" target=\"_parent\"><img src=\"https://colab.research.google.com/assets/colab-badge.svg\" alt=\"Open In Colab\"/></a>"
      ]
    },
    {
      "cell_type": "markdown",
      "metadata": {
        "id": "Ri_3Qdkx2XmR",
        "colab_type": "text"
      },
      "source": [
        "# Problem 1: Python If-Else"
      ]
    },
    {
      "cell_type": "code",
      "metadata": {
        "id": "KfmAtuFn0FtX",
        "colab_type": "code",
        "colab": {
          "base_uri": "https://localhost:8080/",
          "height": 52
        },
        "outputId": "921f7fbc-29d4-4214-bedd-687d9880d4ec"
      },
      "source": [
        "n = int(input().strip())\n",
        "if(n%2 != 0):\n",
        "    print('Weird')\n",
        "elif(n>=2 and n<=5):\n",
        "    print('Not Weird')\n",
        "elif(n>=6 and n<=20):\n",
        "    print('Weird')\n",
        "elif(n>20):\n",
        "    print('Not Weird')"
      ],
      "execution_count": 10,
      "outputs": [
        {
          "output_type": "stream",
          "text": [
            "22\n",
            "Weeird\n"
          ],
          "name": "stdout"
        }
      ]
    },
    {
      "cell_type": "markdown",
      "metadata": {
        "id": "to7cNIBL2mpv",
        "colab_type": "text"
      },
      "source": [
        "#Problem 2: Arithmetic Operators"
      ]
    },
    {
      "cell_type": "code",
      "metadata": {
        "id": "9oZU6lmN078d",
        "colab_type": "code",
        "colab": {
          "base_uri": "https://localhost:8080/",
          "height": 105
        },
        "outputId": "718ad0fb-4d06-4d30-e662-ebeb05486fc5"
      },
      "source": [
        "a = int(input())\n",
        "b = int(input())\n",
        "print(a+b)\n",
        "print(a-b)\n",
        "print(a*b)"
      ],
      "execution_count": 11,
      "outputs": [
        {
          "output_type": "stream",
          "text": [
            "3\n",
            "5\n",
            "8\n",
            "-2\n",
            "15\n"
          ],
          "name": "stdout"
        }
      ]
    },
    {
      "cell_type": "markdown",
      "metadata": {
        "id": "cBpZ0CcP30J2",
        "colab_type": "text"
      },
      "source": [
        "#Problem 3: Python: Division"
      ]
    },
    {
      "cell_type": "code",
      "metadata": {
        "id": "V82XAMmc3yZq",
        "colab_type": "code",
        "colab": {}
      },
      "source": [
        "a = int(input())\n",
        "b = int(input())\n",
        "print(int(a/b))\n",
        "print(float(a)/float(b))"
      ],
      "execution_count": null,
      "outputs": []
    },
    {
      "cell_type": "markdown",
      "metadata": {
        "id": "P1IrwyVd5Sy-",
        "colab_type": "text"
      },
      "source": [
        "# Problem 4: Loops"
      ]
    },
    {
      "cell_type": "code",
      "metadata": {
        "id": "ZdUYgcRX5WE0",
        "colab_type": "code",
        "colab": {
          "base_uri": "https://localhost:8080/",
          "height": 210
        },
        "outputId": "a4ed0a06-b474-453c-f9fe-ac140f6ee462"
      },
      "source": [
        "n = int(input())\n",
        "for i in range(n):\n",
        "  print(i*i)"
      ],
      "execution_count": 12,
      "outputs": [
        {
          "output_type": "stream",
          "text": [
            "10\n",
            "0\n",
            "1\n",
            "4\n",
            "9\n",
            "16\n",
            "25\n",
            "36\n",
            "49\n",
            "64\n",
            "81\n"
          ],
          "name": "stdout"
        }
      ]
    },
    {
      "cell_type": "markdown",
      "metadata": {
        "id": "ltZP-q-M6mVX",
        "colab_type": "text"
      },
      "source": [
        "#Problem 5: Print Function"
      ]
    },
    {
      "cell_type": "code",
      "metadata": {
        "id": "UMAxJI_t6pri",
        "colab_type": "code",
        "colab": {}
      },
      "source": [
        "n = int(input())\n",
        "for i in range(1,n+1):\n",
        "  print(i, end = '')"
      ],
      "execution_count": null,
      "outputs": []
    },
    {
      "cell_type": "markdown",
      "metadata": {
        "id": "S7KQ3Lga96Dq",
        "colab_type": "text"
      },
      "source": [
        "#Problem 6: List Comprehensions"
      ]
    },
    {
      "cell_type": "code",
      "metadata": {
        "id": "2-AbqREY9-PO",
        "colab_type": "code",
        "colab": {}
      },
      "source": [
        "x = int(input())\n",
        "y = int(input())\n",
        "z = int(input())\n",
        "n = int(input())\n",
        "print([[i,j,k] for i in range(x+1) for j in range(y+1) for k in range(z+1) if ((i+j+k!=n))])"
      ],
      "execution_count": null,
      "outputs": []
    }
  ]
}