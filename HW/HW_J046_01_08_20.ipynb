{
  "nbformat": 4,
  "nbformat_minor": 0,
  "metadata": {
    "colab": {
      "name": "HW_J046_01_08_20.ipynb",
      "provenance": [],
      "authorship_tag": "ABX9TyNcu2aAkZt6TshGQeYEtKtz",
      "include_colab_link": true
    },
    "kernelspec": {
      "name": "python3",
      "display_name": "Python 3"
    }
  },
  "cells": [
    {
      "cell_type": "markdown",
      "metadata": {
        "id": "view-in-github",
        "colab_type": "text"
      },
      "source": [
        "<a href=\"https://colab.research.google.com/github/Paymanshus/AI-Sem-V/blob/master/HW/HW_J046_01_08_20.ipynb\" target=\"_parent\"><img src=\"https://colab.research.google.com/assets/colab-badge.svg\" alt=\"Open In Colab\"/></a>"
      ]
    },
    {
      "cell_type": "markdown",
      "metadata": {
        "id": "o3jp9-8Dx7Yx",
        "colab_type": "text"
      },
      "source": [
        "#Sherlock and Cost\n"
      ]
    },
    {
      "cell_type": "code",
      "metadata": {
        "id": "KAXWAJM4x6tG",
        "colab_type": "code",
        "colab": {
          "base_uri": "https://localhost:8080/",
          "height": 87
        },
        "outputId": "b87419fa-b7b2-432c-f900-2efb2516a380"
      },
      "source": [
        "#!/bin/python3\n",
        "\n",
        "import math\n",
        "import os\n",
        "import random\n",
        "import re\n",
        "import sys\n",
        "\n",
        "# Complete the cost function below.\n",
        "def cost(B):\n",
        "    h,l=0,0\n",
        "    for i in range(1,len(B)): \n",
        "        hl=abs(B[i-1]-1)\n",
        "        lh=abs(B[i]-1)\n",
        "        lnext=max(l,h+hl)\n",
        "        hnext=max(h,l+lh)\n",
        "        l=lnext\n",
        "        h=hnext\n",
        "    return max (h,l)\n",
        "\n",
        "if __name__ == '__main__':\n",
        "    t = int(input())\n",
        "\n",
        "    for t_itr in range(t):\n",
        "        n = int(input())\n",
        "\n",
        "        B = list(map(int, input().rstrip().split()))\n",
        "\n",
        "        result = cost(B)\n",
        "     \n",
        "    print(result)"
      ],
      "execution_count": 21,
      "outputs": [
        {
          "output_type": "stream",
          "text": [
            "1\n",
            "5\n",
            "1 10 1 10 1\n",
            "36\n"
          ],
          "name": "stdout"
        }
      ]
    },
    {
      "cell_type": "markdown",
      "metadata": {
        "id": "nz4Dqbee4VMe",
        "colab_type": "text"
      },
      "source": [
        "#The Coin Change Problem"
      ]
    },
    {
      "cell_type": "code",
      "metadata": {
        "id": "UiSnf9Zi4SmJ",
        "colab_type": "code",
        "colab": {
          "base_uri": "https://localhost:8080/",
          "height": 70
        },
        "outputId": "d520fe68-cf34-470c-ce47-61ee1cdb0cec"
      },
      "source": [
        "#!/bin/python3\n",
        "\n",
        "import math\n",
        "import os\n",
        "import random\n",
        "import re\n",
        "import sys\n",
        "\n",
        "#\n",
        "# Complete the 'getWays' function below.\n",
        "#\n",
        "# The function is expected to return a LONG_INTEGER.\n",
        "# The function accepts following parameters:\n",
        "#  1. INTEGER n\n",
        "#  2. LONG_INTEGER_ARRAY c\n",
        "#\n",
        "\n",
        "def getWays(n, c):\n",
        "    # Write your code here\n",
        "    ways = [0] * (n + 1); \n",
        "    ways[0] = 1; \n",
        "    for i in range(len(c)): \n",
        "  \n",
        "        \n",
        "        for j in range(len(ways)): \n",
        "            if (c[i] <= j): \n",
        "  \n",
        "                \n",
        "                ways[j] += ways[(int)(j - c[i])]; \n",
        "  \n",
        "    \n",
        "    return ways[n]; \n",
        "\n",
        "if __name__ == '__main__':\n",
        "\n",
        "    first_multiple_input = input().rstrip().split()\n",
        "\n",
        "    n = int(first_multiple_input[0])\n",
        "\n",
        "    m = int(first_multiple_input[1])\n",
        "\n",
        "    c = list(map(int, input().rstrip().split()))\n",
        "\n",
        "    # Print the number of ways of making change for 'n' units using coins having the values given by 'c'\n",
        "\n",
        "    ways = getWays(n, c)\n",
        "\n",
        "    print(ways)\n"
      ],
      "execution_count": 22,
      "outputs": [
        {
          "output_type": "stream",
          "text": [
            "4 3\n",
            "1 2 3\n",
            "4\n"
          ],
          "name": "stdout"
        }
      ]
    },
    {
      "cell_type": "markdown",
      "metadata": {
        "id": "kSfnQzpBtGTc",
        "colab_type": "text"
      },
      "source": [
        "#Validating Postal Codes\n"
      ]
    },
    {
      "cell_type": "code",
      "metadata": {
        "id": "TbmXjUzPtiBD",
        "colab_type": "code",
        "colab": {
          "base_uri": "https://localhost:8080/",
          "height": 70
        },
        "outputId": "c064d11d-8d0a-4a7f-9cf1-9a2d95b1f74e"
      },
      "source": [
        "regex_integer_in_range = r\"_________\"\t# Do not delete 'r'.\n",
        "regex_alternating_repetitive_digit_pair = r\"_________\"\t# Do not delete 'r'.\n",
        "import sys\n",
        "stdin=sys.stdin\n",
        "\n",
        "import re\n",
        "line=stdin.readline().strip()\n",
        "print(re.match(\"^[1-9][0-9]{5}$\",line) !=None and [ord(line[i])-ord(line[i+2]) for i in range(4)].count(0)<=1)\n",
        "\n",
        "P = input()\n",
        "\n",
        "print (bool(re.match(regex_integer_in_range, P)) \n",
        "and len(re.findall(regex_alternating_repetitive_digit_pair, P)) < 2)"
      ],
      "execution_count": 15,
      "outputs": [
        {
          "output_type": "stream",
          "text": [
            "False\n",
            "121378\n",
            "False\n"
          ],
          "name": "stdout"
        }
      ]
    }
  ]
}